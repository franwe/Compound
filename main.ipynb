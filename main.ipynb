{
 "cells": [
  {
   "cell_type": "markdown",
   "metadata": {},
   "source": [
    "# Notes on the Methods and Formulas\n",
    "\n",
    "### Parameters\n",
    "Parameters can be set in `configs.parameters.json`, for example:\n",
    "```json\n",
    "{\n",
    "    \"mc_horizon\": 100,\n",
    "    \"mc_paths\": 10000,\n",
    "    \"var_accounts\": 1000,\n",
    "    \"var_percentile\": 0.1,\n",
    "    \"accounts_min_borrow_eth\": 0.2,\n",
    "    \"accounts_max_health\": 2.0\n",
    "}\n",
    "```\n",
    "\n",
    "#### The Graph (Compound-v2)\n",
    "Used for current information on Compound. Total borrows, total supply, exchange rate, collateral factor and so on. \n",
    "Api at `src.the_graph_api.TheGraphAPI`. \n",
    "\n",
    "#### Coingecko (Historical Prices)\n",
    "Use file: `data/coingecko_prices.csv`\n",
    "\n",
    "Created by download script `download_historical_prices.py`. The script has a runtime of ~1h, because it sends about 600 requests to coingecko. The free API allows 10-50 requests per minute, so I use a sleep of 6 seconds to never send more than 10 requests per minute. \n",
    "Api at `src.coingecko_api.CoingeckoAPI`. \n",
    "\n",
    "Time window: `2022-11-21` to `2022-11-20`\n",
    "\n",
    "Should be updated if gets too old compared to the timestamp of data from The Graph. \n",
    "\n",
    "### Volatility and Simulation of Trajectories\n",
    "Calculated from the historical prices timeseries. Standard deviation of the log-returns. The log is used, because for the Monte Carlo method we model the price path by a Brownian Motion / Weiner Process, where the log-returns follow a Normal Distribution with $\\mu=0$ and $\\sigma=vol$. \n",
    "\n",
    "Implementation: `src.measures.calc_volatility`, `src.measures.monte_carlo_simulation`\n",
    "\n",
    "### Maximum Insolvency for an Account\n",
    "\n",
    "To estimate the maximum Insolvency, we use the 10 simulated szenarios of assets prices. \n",
    "\n",
    "`borrowValue` for each asset is calculated using the field `borrow_balance_underlying` of the account. \n",
    "\n",
    "`collateralValue` is the sum of `supply_balance_underlying` multiplied by their `collatoralFactor`s. \n",
    "\n",
    "Then the Insolvency is `insolvency = borrowValue - collateralValue`. We do this 10 times (for the 10 simulated szenarios), and take the Maximum Insolvency Value. \n",
    "\n",
    "### Estimate VaR by Total Estimated Debt\n",
    "\n",
    "Above we saw how to estimate the maximum debt of one account.\n",
    "\n",
    "Now, we want to estimate the Value at Risk of Compound. We do the following:\n",
    "- For `mc_paths` (N) simulations of the asset prices.\n",
    "- Calculate the potential debt of all `var_accounts`. \n",
    "- Sum the debt if the account turns unhealthy (collateral < borrow), call `total_debt`\n",
    "- Now have N total debts. Find the `var_percentile` value as the `VaR` value \n",
    "\n",
    "> There is a 10% chance Compound will have a loss of 443899 USD or more, due to under-collateralized accounts. The simulation is based of a time horizon of 100 days. And a sample of 1000 accounts.\n",
    "\n",
    "When requesting account info, I limited to accounts with `min_borrow_value_in_eth = 0.2` and `max_health = 1.5` so they likely have some impact on the debt calculation (can be changed in `parameters.json`). The real loss will be bigger, because also seemingly more save accounts now could get into a dangerous state, also the small accounts with small borrow_value would add up. \n",
    "\n",
    "### Runtime\n",
    "The use of numpy and matrix multiplication keep the runtime low. On my machine (Intel MacBook Pro), the Monte Carlo Simulation of 10.000 * 17 paths for 100 days horizon only took 10 sec. \n",
    "Also the `calc_supply/borrow_value_usd` functions use matrix multiplication and return instantly (output 10.000 * 17).\n",
    "\n",
    "Requesting the account information from the `CompoundAPI` can take a while. In the current setup with `var_accounts=1000` it took me 60 seconds. The `get_accounts()` request limits the request to max 200 accounts each page, and sleeps for a few seconds between requests. \n",
    "\n",
    "What takes time is to download the historical prices, this is why the download code is excluded and here we load the prices from a csv.\n"
   ]
  },
  {
   "cell_type": "code",
   "execution_count": 1,
   "metadata": {},
   "outputs": [],
   "source": [
    "import pandas as pd\n",
    "import numpy as np\n",
    "from pathlib import Path\n",
    "import json\n",
    "\n",
    "from src.the_graph_api import TheGraphAPI\n",
    "\n",
    "PRICES_FILE = Path.cwd().joinpath(\"data\", \"coingecko_prices.csv\")\n",
    "PARAMS_FILE = Path.cwd().joinpath(\"configs\", \"parameters.json\")\n"
   ]
  },
  {
   "cell_type": "code",
   "execution_count": 2,
   "metadata": {},
   "outputs": [],
   "source": [
    "# get current Compound Borrows from The Graph\n",
    "\n",
    "tg_api = TheGraphAPI()\n",
    "borrows = tg_api.get_compound_borrows()\n",
    "\n",
    "col_dtypes = {\n",
    "    \"symbol\":str,\n",
    "    \"underlyingSymbol\":str,\n",
    "    \"underlyingName\":str, \n",
    "    \"totalBorrows\":float,\t\n",
    "    \"totalSupply\":float,\n",
    "    \"collateralFactor\":float,\t\n",
    "    \"exchangeRate\":float,\n",
    "    \"underlyingPriceUSD\":float,\t\n",
    "    \"underlyingPrice\":float,\n",
    "    \"blockTimestamp\":int,\n",
    "    }\n",
    "borrows_df = pd.DataFrame(borrows)\n",
    "borrows_df = borrows_df.apply(lambda c: c.astype(col_dtypes[c.name]))\n",
    "borrows_df"
   ]
  },
  {
   "cell_type": "markdown",
   "metadata": {},
   "source": [
    "Have two entries for `DAI` and `wBTC` each... only keep the bigger one for now\n",
    "```\n",
    "{\n",
    "  \"underlyingSymbol\": \"DAI\",\n",
    "  \"underlyingName\": \"Dai Stablecoin\",\n",
    "  \"borrowRate\": \"0.0233026004452608\",\n",
    "  \"totalBorrows\": \"211524161.923877439677332104\",\n",
    "  \"collateralFactor\": \"0.835\",\n",
    "  \"underlyingPriceUSD\": \"1.000773\",\n",
    "  \"blockTimestamp\": 1669045535,\n",
    "  \"accrualBlockNumber\": 16019369\n",
    "},\n",
    "{\n",
    "  \"underlyingSymbol\": \"DAI\",\n",
    "  \"underlyingName\": \"Dai Stablecoin v1.0 (DAI)\",\n",
    "  \"borrowRate\": \"0.0501467542606656\",\n",
    "  \"totalBorrows\": \"240.64852988575940222\",\n",
    "  \"collateralFactor\": \"0\",\n",
    "  \"underlyingPriceUSD\": \"6.210826\",\n",
    "  \"blockTimestamp\": 1668979619,\n",
    "  \"accrualBlockNumber\": 16013904\n",
    "},\n",
    "....\n",
    "{\n",
    "  \"underlyingSymbol\": \"WBTC\",\n",
    "  \"underlyingName\": \"Wrapped BTC\",\n",
    "  \"borrowRate\": \"0.0206864728473312\",\n",
    "  \"totalBorrows\": \"0.39387562\",\n",
    "  \"collateralFactor\": \"0.7\",\n",
    "  \"underlyingPriceUSD\": \"15929.996902\",\n",
    "  \"blockTimestamp\": 1669001867,\n",
    "  \"accrualBlockNumber\": 16015751\n",
    "},\n",
    "{\n",
    "  \"underlyingSymbol\": \"WBTC\",\n",
    "  \"underlyingName\": \"Wrapped BTC\",\n",
    "  \"borrowRate\": \"0.0221761103560704\",\n",
    "  \"totalBorrows\": \"152.21575285\",\n",
    "  \"collateralFactor\": \"0.7\",\n",
    "  \"underlyingPriceUSD\": \"16182.771321\",\n",
    "  \"blockTimestamp\": 1669043411,\n",
    "  \"accrualBlockNumber\": 16019192\n",
    "},\n",
    "```"
   ]
  },
  {
   "cell_type": "code",
   "execution_count": null,
   "metadata": {},
   "outputs": [],
   "source": [
    "borrows_df = borrows_df.sort_values(by=[\"underlyingSymbol\", \"totalBorrows\"], ascending=False).reset_index(drop=True)\n",
    "borrows_df = borrows_df.drop_duplicates(subset=[\"underlyingSymbol\"])\n",
    "borrows_df = borrows_df.sort_values(by=[\"underlyingSymbol\"]).reset_index(drop=True)\n",
    "borrows_df"
   ]
  },
  {
   "cell_type": "markdown",
   "metadata": {},
   "source": [
    "### Monte Carlo Simulation\n",
    "- Calculate Volatilties\n",
    "- Simulate Price Paths"
   ]
  },
  {
   "cell_type": "code",
   "execution_count": null,
   "metadata": {},
   "outputs": [],
   "source": [
    "from src.measures import calc_volatility, monte_carlo_simulation\n",
    "\n",
    "with open(PARAMS_FILE) as f:\n",
    "    params = json.load(f)\n",
    "    \n",
    "# load historical prices from coingecko (used scrip `download_historica_prices.ipynb` to prepare data)\n",
    "prices = pd.read_csv(PRICES_FILE)\n",
    "symbols = sorted(prices[\"symbol\"].unique())\n",
    "\n",
    "# calculate volatilities\n",
    "vols = {}\n",
    "for symbol in symbols:\n",
    "    p = prices[prices[\"symbol\"] == symbol][\"price\"].values\n",
    "    vols[symbol] = calc_volatility(p)\n",
    "\n",
    "print(vols)"
   ]
  },
  {
   "cell_type": "code",
   "execution_count": null,
   "metadata": {},
   "outputs": [],
   "source": [
    "# plot example of Monte Carlo Paths (aave)\n",
    "from src.measures import simulate_path\n",
    "from src.plots import plot_mc_paths\n",
    "from matplotlib import pyplot as plt\n",
    "\n",
    "symbol = \"aave\"\n",
    "price = borrows_df[borrows_df[\"underlyingSymbol\"] == symbol.upper()][\"underlyingPriceUSD\"].iloc[0]\n",
    "paths = [simulate_path(price, vols[symbol], horizon=20) for _ in range(10)]\n",
    "\n",
    "fig = plot_mc_paths(symbol, paths)\n",
    "plt.show()"
   ]
  },
  {
   "cell_type": "code",
   "execution_count": null,
   "metadata": {},
   "outputs": [],
   "source": [
    "# Simulate Monte Carlo Paths for all Symbols\n",
    "mc_paths = {}\n",
    "for symbol in symbols:\n",
    "    price = borrows_df[borrows_df[\"underlyingSymbol\"] == symbol.upper()][\"underlyingPriceUSD\"].iloc[0]\n",
    "    mc_paths[symbol] = monte_carlo_simulation(price, vols[symbol], params[\"mc_horizon\"], params[\"mc_paths\"])\n",
    "\n",
    "mc_prices = pd.DataFrame(mc_paths).T\n",
    "mc_prices_small = mc_prices[mc_prices.columns.tolist()[:10]]\n",
    "\n",
    "print(f\"For each asset simulated {params['mc_paths']} paths with time horizon of {params['mc_horizon']} days.\")\n",
    "print(f\"Showing 10 example states:\")\n",
    "mc_prices_small"
   ]
  },
  {
   "cell_type": "markdown",
   "metadata": {},
   "source": [
    "# Calculate Value of Borrows and Collateral\n",
    "\n",
    "- value of cTokens in USD: `amount_cToken * exchange_rate * price_usd`\n",
    "- calculate `collateralValue` and `borrowValue` \n",
    "\n",
    "The `health` on Compound is `collateralValue / borrowValue`. A value of < 1 means, that the account is under-collateralized and subject to liquidation. The `health` value from the Compound API is calculated with the collateral and borrow values in ETH (`total_collateral_value_in_eth / total_borrow_value_in_eth.`). Since my simulation is based on the historic asset prices in USD, I will also calculate the health based on collateral and borrow value in USD. \n",
    "\n",
    "## Maximum Insolvency for an Account\n",
    "\n",
    "To estimate the maximum Insolvency, we use the 10 simulated szenarios of assets prices. \n",
    "\n",
    "`borrowValue` for each asset is calculated using the field `borrow_balance_underlying` of the account. \n",
    "\n",
    "`collateralValue` is the sum of `supply_balance_underlying` multiplied by their `collatoralFactor`s. \n",
    "\n",
    "Then the Insolvency is `insolvency = borrowValue - collateralValue`. We do this 10 times (for the 10 simulated szenarios), and take the Maximum Insolvency Value. "
   ]
  },
  {
   "cell_type": "code",
   "execution_count": null,
   "metadata": {},
   "outputs": [],
   "source": [
    "# get accounts from compound that are already close to insolvency (max_health = 1.5)\n",
    "\n",
    "from src.compound_api import CompoundApi\n",
    "c_api = CompoundApi()\n",
    "accounts = c_api.get_accounts(amount=4, max_health=1.5, min_borrow_value_in_eth=0.2)"
   ]
  },
  {
   "cell_type": "code",
   "execution_count": null,
   "metadata": {},
   "outputs": [],
   "source": [
    "a = accounts[1]\n",
    "print(a[\"total_borrow_value_in_eth\"], a[\"total_collateral_value_in_eth\"], a[\"health\"])\n",
    "pd.DataFrame(a[\"tokens\"])"
   ]
  },
  {
   "cell_type": "code",
   "execution_count": null,
   "metadata": {},
   "outputs": [],
   "source": [
    "# calculate account's health using the usd value\n",
    "\n",
    "def format_assets_to_df(tokens, field):\n",
    "    empty_tokens_df = pd.DataFrame(index=symbols)\n",
    "    tokens = {t[\"symbol\"][1:].lower(): float(t[field][\"value\"]) for t in tokens}\n",
    "    df = pd.Series(tokens)\n",
    "\n",
    "    empty_tokens_df[\"amount\"] = df\n",
    "    empty_tokens_df.fillna(0, inplace=True)\n",
    "    return empty_tokens_df[\"amount\"].values\n",
    "\n",
    "account_tokens = pd.DataFrame(index=symbols)\n",
    "account_tokens[\"borrow\"] = format_assets_to_df(a[\"tokens\"], \"borrow_balance_underlying\")\n",
    "account_tokens[\"supply\"]  = format_assets_to_df(a[\"tokens\"], \"supply_balance_underlying\")\n",
    "account_tokens"
   ]
  },
  {
   "cell_type": "code",
   "execution_count": null,
   "metadata": {},
   "outputs": [],
   "source": [
    "from src.measures import calc_borrow_value_usd, calc_supply_value_usd\n",
    "\n",
    "b = calc_borrow_value_usd(\n",
    "    n_ctoken=account_tokens[\"borrow\"].values, \n",
    "    exchange_rate=borrows_df[\"exchangeRate\"].values, \n",
    "    prices=borrows_df[\"underlyingPriceUSD\"].values\n",
    ")\n",
    "\n",
    "c = calc_supply_value_usd(\n",
    "    n_ctoken=account_tokens[\"supply\"].values, \n",
    "    exchange_rate=borrows_df[\"exchangeRate\"].values, \n",
    "    collateral_factor=borrows_df[\"collateralFactor\"].values,\n",
    "    prices=borrows_df[\"underlyingPriceUSD\"].values\n",
    ")\n",
    "print(f\"calculated health of account (usd price): {c.sum()/b.sum()}, api health (eth price) {a['health']['value'][:5]}.\")"
   ]
  },
  {
   "cell_type": "markdown",
   "metadata": {},
   "source": [
    "### How would the Monte Carlo simulated prices affect the supply and borrow vlaues?"
   ]
  },
  {
   "cell_type": "code",
   "execution_count": null,
   "metadata": {},
   "outputs": [],
   "source": [
    "mc_borrow_values = calc_borrow_value_usd(\n",
    "    n_ctoken=account_tokens[\"borrow\"].values, \n",
    "    exchange_rate=borrows_df[\"exchangeRate\"].values, \n",
    "    prices=mc_prices_small.values\n",
    ")\n",
    "mc_supply_values = calc_supply_value_usd(\n",
    "    n_ctoken=account_tokens[\"supply\"].values, \n",
    "    exchange_rate=borrows_df[\"exchangeRate\"].values, \n",
    "    collateral_factor=borrows_df[\"collateralFactor\"].values,\n",
    "    prices = mc_prices_small.values\n",
    ")\n",
    "\n",
    "# calculate simulated debts\n",
    "debt = mc_borrow_values.sum(axis=0) - mc_supply_values.sum(axis=0)\n",
    "max_debt = debt.max()\n",
    "print(f\"Max debt of account {a['address']} from {len(mc_prices_small.columns)} simulated szenarios: {max_debt} USD\")"
   ]
  },
  {
   "cell_type": "markdown",
   "metadata": {},
   "source": [
    "### Estimate VaR by Total Estimated Debt\n",
    "\n",
    "Above we saw how to estimate the maximum debt of one account.\n",
    "\n",
    "Now, we want to estimate the Value at Risk of Compound. We do the following:\n",
    "- For `mc_paths` (N) simulations of the asset prices\n",
    "- Calculate the potential debt of all `var_accounts`. \n",
    "- Sum the debt if the account turns unhealthy (collateral < borrow), call `total_debt`\n",
    "- Now have N total debts. Find the `var_percentile` value as the `VaR` value \n",
    "\n",
    ">There is a 10% chance that Compound will have a loss of `VaR`, due to insolvent accounts. \n",
    "\n",
    "Limit to accounts with `min_borrow_value_in_eth = 0.2` so they have some impact (can be changed in `parameters.json`)\n"
   ]
  },
  {
   "cell_type": "code",
   "execution_count": null,
   "metadata": {},
   "outputs": [],
   "source": [
    "# if `var_accounts` is big, this could run a while (1000 accounts took for me 1 minute.)\n",
    "\n",
    "accounts = c_api.get_accounts(\n",
    "    amount=params[\"var_accounts\"], \n",
    "    min_borrow_value_in_eth=params[\"accounts_min_borrow_eth\"], \n",
    "    max_health=params[\"accounts_max_health\"]\n",
    "    )"
   ]
  },
  {
   "cell_type": "code",
   "execution_count": null,
   "metadata": {},
   "outputs": [],
   "source": [
    "total_debt = np.zeros(params[\"mc_paths\"])\n",
    "always_healthy_accounts = 0\n",
    "for a in accounts:\n",
    "    mc_borrow_values = calc_borrow_value_usd(\n",
    "        n_ctoken=format_assets_to_df(a[\"tokens\"], \"borrow_balance_underlying\"), \n",
    "        exchange_rate=borrows_df[\"exchangeRate\"].values, \n",
    "        prices=mc_prices.values\n",
    "    )\n",
    "    mc_supply_values = calc_supply_value_usd(\n",
    "        n_ctoken=format_assets_to_df(a[\"tokens\"], \"supply_balance_underlying\"), \n",
    "        exchange_rate=borrows_df[\"exchangeRate\"].values, \n",
    "        collateral_factor=borrows_df[\"collateralFactor\"].values,\n",
    "        prices = mc_prices.values\n",
    "    )\n",
    "\n",
    "    # calculate simulated debts\n",
    "    debt = mc_borrow_values.sum(axis=0) - mc_supply_values.sum(axis=0)\n",
    "    # only keep positive debts (\"account is unhealthy\")\n",
    "    debt = np.maximum(np.zeros(params[\"mc_paths\"]), debt)\n",
    "\n",
    "    total_debt += debt\n",
    "    if debt.sum()==0:\n",
    "        always_healthy_accounts += 1\n",
    "\n",
    "print(f\"Of {params['var_accounts']}, {always_healthy_accounts} always stayed healthy, \" \\\n",
    "    f\"in all {params['mc_paths']} simulations. \" \\\n",
    "    \"If too many accounts stay health, change parameters `accounts_min_borrow_eth` or `accounts_max_health` for the `get_accounts` request.\")\n"
   ]
  },
  {
   "cell_type": "code",
   "execution_count": null,
   "metadata": {},
   "outputs": [],
   "source": [
    "from src.plots import plot_loss_histogram\n",
    "\n",
    "fig = plot_loss_histogram(total_debt, params[\"mc_paths\"])\n",
    "\n",
    "var_critical_debt = np.percentile(total_debt, 1-params[\"var_percentile\"])\n",
    "print(f\"There is a {int(params['var_percentile']*100)}% chance Compound will have a loss of {var_critical_debt:.0f} USD or more, due to under-collateralized accounts. \"\\\n",
    "    f\"The simulation is based of a time horizon of {params['mc_horizon']} days. And a sample of {params['var_accounts']} accounts.\")"
   ]
  }
 ],
 "metadata": {
  "kernelspec": {
   "display_name": "Python 3.10.6 ('venv': venv)",
   "language": "python",
   "name": "python3"
  },
  "language_info": {
   "codemirror_mode": {
    "name": "ipython",
    "version": 3
   },
   "file_extension": ".py",
   "mimetype": "text/x-python",
   "name": "python",
   "nbconvert_exporter": "python",
   "pygments_lexer": "ipython3",
   "version": "3.10.6"
  },
  "orig_nbformat": 4,
  "vscode": {
   "interpreter": {
    "hash": "842a373400a9799477dec51007e9ba5d0fca6dd8ecf98262ef81b3f2d8205bb9"
   }
  }
 },
 "nbformat": 4,
 "nbformat_minor": 2
}
